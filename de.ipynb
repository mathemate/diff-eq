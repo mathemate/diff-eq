{
 "cells": [
  {
   "cell_type": "code",
   "execution_count": 31,
   "id": "3afe6dc4-02f1-446d-bb3e-ec59fbb40316",
   "metadata": {},
   "outputs": [
    {
     "data": {
      "text/plain": [
       "solve_characteristic_eq (generic function with 1 method)"
      ]
     },
     "execution_count": 31,
     "metadata": {},
     "output_type": "execute_result"
    }
   ],
   "source": [
    "function solve_characteristic_eq(coefficent)\n",
    "    if length(coefficent) == 3\n",
    "        a = coefficent[1]\n",
    "        b = coefficent[2]\n",
    "        c = coefficent[3]\n",
    "        det = b ^ 2 - 4a*c\n",
    "\n",
    "        if det > 0 \n",
    "            return [ (- b + √(det)) / (2a) , (-b - √(det)) / (2a) ]\n",
    "\n",
    "\n",
    "        elseif det == 0\n",
    "            return [ -b/(2a) ]\n",
    "\n",
    "\n",
    "        else \n",
    "            return [ (-b + √(Complex(det))) / (2a) , (-b - √(Complex(det))) / (2a) ]\n",
    "\n",
    "        end\n",
    "    end\n",
    "\n",
    "    return \"Too long\"\n",
    "end\n",
    "\n",
    "    "
   ]
  },
  {
   "cell_type": "code",
   "execution_count": 77,
   "id": "f340c2c8-491e-4536-b6e5-f6922371c4f1",
   "metadata": {},
   "outputs": [
    {
     "data": {
      "text/plain": [
       "second_order_de (generic function with 1 method)"
      ]
     },
     "execution_count": 77,
     "metadata": {},
     "output_type": "execute_result"
    }
   ],
   "source": [
    "function second_order_de(coefficent)\n",
    "    # mu'' + yu'+ku = f, yzero, yprimezero\n",
    "    m = coefficent[1] # m\n",
    "    y = coefficent[2] # y\n",
    "    k = coefficent[3] # k\n",
    "\n",
    "    f = coefficent[4] # Homogeous or not\n",
    "\n",
    "    yz = coefficent[5] #yzero\n",
    "    ypz = coefficent[6] # y' 0\n",
    "\n",
    "\n",
    "    # homogenous, general solution problem\n",
    "    if f==0 \n",
    "        sol = solve_characteristic_eq( [m,y,k] )\n",
    "\n",
    "        if( yz != 99 && ypz != 99)\n",
    "            sols = solve_second_order_IVP( [0, yz, ypz, sol] )\n",
    "            if length(sol) == 1\n",
    "                return \"$(sols[1])e^($(sol[1])t) + $(sols[2])te^($(sol[1])t)\"\n",
    "            elseif isreal(sol[1])\n",
    "                return \"$(sols[1])e^($(sol[1])t) + $(sols[2])e^($(sol[2])t)\"\n",
    "    \n",
    "            else\n",
    "                real_part = real(sol[1])\n",
    "                imag_part = imag(sol[1])\n",
    "                \n",
    "                if real(sol[1]) == 0\n",
    "                    return \"$(sols[1])cos($(sol[1])t) + $(sols[2])sin($(sol[2])t)\"\n",
    "                else\n",
    "                    return \"$(sols[1])e^($(real_part)t)cos($(imag_part)t) + $(sols[2])e^($(real_part)t)sin($(imag_part)t)\"\n",
    "                end\n",
    "            end\n",
    "        end\n",
    "\n",
    "        if length(sol) == 1\n",
    "            return \"C₁e^($(sol[1])t) + C₂te^($(sol[1])t)\"\n",
    "        elseif isreal(sol[1])\n",
    "            return \"C₁e^($(sol[1])t) + C₂e^($(sol[2])t)\"\n",
    "\n",
    "        else\n",
    "            real_part = real(sol[1])\n",
    "            imag_part = imag(sol[1])\n",
    "            \n",
    "            if real(sol[1]) == 0\n",
    "                return \"C₁cos($(sol[1])t) + C₂sin($(sol[2])t)\"\n",
    "            else\n",
    "                return \"C₁e^($(real_part)t)cos($(imag_part)t) + C₂e^($(real_part)t)sin($(imag_part)t)\"\n",
    "            end\n",
    "        end\n",
    "    \n",
    "\n",
    "        \n",
    "    end\n",
    "end"
   ]
  },
  {
   "cell_type": "code",
   "execution_count": 81,
   "id": "28931c79-7745-42d4-830d-093a8985e078",
   "metadata": {},
   "outputs": [
    {
     "data": {
      "text/plain": [
       "solve_second_order_IVP (generic function with 1 method)"
      ]
     },
     "execution_count": 81,
     "metadata": {},
     "output_type": "execute_result"
    }
   ],
   "source": [
    "function solve_second_order_IVP(coefficent)\n",
    "    # [ homogeneous/not, yz, ypz, c1]\n",
    "    # c1/c2 =[ [ exp(val), cos/sin val], ]\n",
    "\n",
    "   \n",
    "    h = coefficent[1]\n",
    "\n",
    "    yz = coefficent[2]\n",
    "    ypz = coefficent[3]\n",
    "\n",
    "    c = coefficent[4]\n",
    "\n",
    "    t = 2\n",
    "    if length(c) == 1\n",
    "        t = 2\n",
    "    elseif isreal(c[1])\n",
    "        t = 1\n",
    "    else\n",
    "        t = 3\n",
    "    end\n",
    "\n",
    "    if (t == 1 && h == 0)\n",
    "        #c1 + c2 = yzinput --> r1c1 + r1c2 = yzinput * r1\n",
    "        #ypz = r1c1 + r2c2 = ypzinput  --> c2(r2-r1)= ypzinput - yzinput*r1 --> c2 = (ypzinput - yzinput * r1) / (r2-r1)\n",
    "\n",
    "        gensoltwo = (ypz - yz*c[1]) / (c[2]-c[1])\n",
    "        gensolone = yz - gensoltwo\n",
    "\n",
    "        return [gensolone, gensoltwo]\n",
    "    elseif (t == 2 && h ==0)\n",
    "        # c1 = yzinput\n",
    "        # ypz = r1c1 + c2 ---> c2 = ypz - r1c1\n",
    "        gensolone = yz\n",
    "        gensoltwo = ypz - c[1]*gensolone\n",
    "        \n",
    "\n",
    "        return [gensolone, gensoltwo]\n",
    "    else\n",
    "        # c1 e cos + c2 e sin = yz ---> c1 = yz\n",
    "\n",
    "        # case1 no e\n",
    "            # c1cos + c2sin\n",
    "            # imag c1 sin + imag c2 cos ---> - imag c2 cos = yz\n",
    "            # c2 = yz/imag\n",
    "\n",
    "        # case2 yes e\n",
    "            # c1ecos+c2esin\n",
    "            # real c1 e cos + imag c2 e -cos = ypz ---> c2 = ypz-(real c1) / imag \n",
    "\n",
    "        gensolone = yz\n",
    "        if real(c[1]) == 0\n",
    "            return [gensolone, yz/imag(c[1])]\n",
    "        else\n",
    "            return [ gensolone, (ypz - real(c[1]) * gensolone)/imag(c[1]) ]\n",
    "        end\n",
    "\n",
    "        \n",
    "    end\n",
    "        \n",
    "end\n",
    "\n",
    "        "
   ]
  },
  {
   "cell_type": "code",
   "execution_count": 59,
   "id": "b657f326-f91a-4edb-af16-0d16d0e0e86a",
   "metadata": {},
   "outputs": [
    {
     "name": "stdout",
     "output_type": "stream",
     "text": [
      "[1.0, -5.0]"
     ]
    }
   ],
   "source": [
    "print(solve_characteristic_eq([1,4,-5]))"
   ]
  },
  {
   "cell_type": "code",
   "execution_count": 76,
   "id": "761c9e5c-dd7f-45b9-9144-90d007748a0e",
   "metadata": {},
   "outputs": [
    {
     "name": "stdout",
     "output_type": "stream",
     "text": [
      "3.0e^(1.25t) + -6.0te^(1.25t)"
     ]
    }
   ],
   "source": [
    "arr = [16, -40, 25, 0, 3, -9/4]\n",
    "print(second_order_de(arr))"
   ]
  },
  {
   "cell_type": "code",
   "execution_count": 83,
   "id": "8d24f3e1-93bf-4039-921d-7a5b2e653edf",
   "metadata": {},
   "outputs": [
    {
     "name": "stdout",
     "output_type": "stream",
     "text": [
      "-4.0e^(4.0t)cos(1.0t) + 15.0e^(4.0t)sin(1.0t)"
     ]
    }
   ],
   "source": [
    "arr = [1, -8, 17, 0, -4, -1]\n",
    "print(second_order_de(arr))"
   ]
  },
  {
   "cell_type": "code",
   "execution_count": null,
   "id": "e4431f58-321d-4959-b7a5-88286413c203",
   "metadata": {},
   "outputs": [],
   "source": []
  }
 ],
 "metadata": {
  "kernelspec": {
   "display_name": "Julia 1.9.4",
   "language": "julia",
   "name": "julia-1.9"
  },
  "language_info": {
   "file_extension": ".jl",
   "mimetype": "application/julia",
   "name": "julia",
   "version": "1.9.4"
  }
 },
 "nbformat": 4,
 "nbformat_minor": 5
}
